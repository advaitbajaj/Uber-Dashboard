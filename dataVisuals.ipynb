{
 "cells": [
  {
   "cell_type": "code",
   "execution_count": 1,
   "metadata": {},
   "outputs": [],
   "source": [
    "import plotly_express as px\n",
    "import pandas as pd\n",
    "import numpy as np\n",
    "import plotly.graph_objs as go\n",
    "\n",
    "import matplotlib.pyplot as plt\n",
    "import datashader as ds\n",
    "import colorcet as cc\n",
    "import folium\n",
    "\n",
    "%matplotlib inline\n",
    "plt.style.use('ggplot')"
   ]
  },
  {
   "cell_type": "code",
   "execution_count": 2,
   "metadata": {},
   "outputs": [],
   "source": [
    "pickups = pd.read_csv(\"Required Data\\\\2014 EDA\\\\Combined Data.csv\")"
   ]
  },
  {
   "cell_type": "code",
   "execution_count": 3,
   "metadata": {},
   "outputs": [],
   "source": [
    "dailyRides = pickups.query(\n",
    "    'Day == 26 and Month == \"July\"' \n",
    ")\n",
    "\n",
    "dailyRides = dailyRides['Hour'].value_counts().sort_index()\n",
    "\n",
    "labels = {\n",
    "    \"index\": \"Hours\",\n",
    "    \"value\": \"Number of Rides\"\n",
    "}\n",
    "\n",
    "byHourFigure = px.bar(dailyRides, labels=labels)"
   ]
  },
  {
   "cell_type": "code",
   "execution_count": 26,
   "metadata": {},
   "outputs": [],
   "source": [
    "l1 = [int(x) for x in range(0, 24)]\n",
    "\n",
    "l2 = [1245,940,677,509,376,330,368,496,647,804,986,1069,1132,1179,1377,1657,1725,1642,1814,1560,1755,1840,1854,1726]\n",
    "\n",
    "dr = pd.DataFrame(list(zip(l1, l2)))"
   ]
  },
  {
   "cell_type": "code",
   "execution_count": 27,
   "metadata": {},
   "outputs": [],
   "source": [
    "dr.columns = ['Hour', 'Number of Pickups']"
   ]
  },
  {
   "cell_type": "code",
   "execution_count": 28,
   "metadata": {},
   "outputs": [
    {
     "data": {
      "text/html": [
       "<div>\n",
       "<style scoped>\n",
       "    .dataframe tbody tr th:only-of-type {\n",
       "        vertical-align: middle;\n",
       "    }\n",
       "\n",
       "    .dataframe tbody tr th {\n",
       "        vertical-align: top;\n",
       "    }\n",
       "\n",
       "    .dataframe thead th {\n",
       "        text-align: right;\n",
       "    }\n",
       "</style>\n",
       "<table border=\"1\" class=\"dataframe\">\n",
       "  <thead>\n",
       "    <tr style=\"text-align: right;\">\n",
       "      <th></th>\n",
       "      <th>Hour</th>\n",
       "      <th>Number of Pickups</th>\n",
       "    </tr>\n",
       "  </thead>\n",
       "  <tbody>\n",
       "    <tr>\n",
       "      <th>0</th>\n",
       "      <td>0</td>\n",
       "      <td>1245</td>\n",
       "    </tr>\n",
       "    <tr>\n",
       "      <th>1</th>\n",
       "      <td>1</td>\n",
       "      <td>940</td>\n",
       "    </tr>\n",
       "    <tr>\n",
       "      <th>2</th>\n",
       "      <td>2</td>\n",
       "      <td>677</td>\n",
       "    </tr>\n",
       "    <tr>\n",
       "      <th>3</th>\n",
       "      <td>3</td>\n",
       "      <td>509</td>\n",
       "    </tr>\n",
       "    <tr>\n",
       "      <th>4</th>\n",
       "      <td>4</td>\n",
       "      <td>376</td>\n",
       "    </tr>\n",
       "    <tr>\n",
       "      <th>5</th>\n",
       "      <td>5</td>\n",
       "      <td>330</td>\n",
       "    </tr>\n",
       "    <tr>\n",
       "      <th>6</th>\n",
       "      <td>6</td>\n",
       "      <td>368</td>\n",
       "    </tr>\n",
       "    <tr>\n",
       "      <th>7</th>\n",
       "      <td>7</td>\n",
       "      <td>496</td>\n",
       "    </tr>\n",
       "    <tr>\n",
       "      <th>8</th>\n",
       "      <td>8</td>\n",
       "      <td>647</td>\n",
       "    </tr>\n",
       "    <tr>\n",
       "      <th>9</th>\n",
       "      <td>9</td>\n",
       "      <td>804</td>\n",
       "    </tr>\n",
       "    <tr>\n",
       "      <th>10</th>\n",
       "      <td>10</td>\n",
       "      <td>986</td>\n",
       "    </tr>\n",
       "    <tr>\n",
       "      <th>11</th>\n",
       "      <td>11</td>\n",
       "      <td>1069</td>\n",
       "    </tr>\n",
       "    <tr>\n",
       "      <th>12</th>\n",
       "      <td>12</td>\n",
       "      <td>1132</td>\n",
       "    </tr>\n",
       "    <tr>\n",
       "      <th>13</th>\n",
       "      <td>13</td>\n",
       "      <td>1179</td>\n",
       "    </tr>\n",
       "    <tr>\n",
       "      <th>14</th>\n",
       "      <td>14</td>\n",
       "      <td>1377</td>\n",
       "    </tr>\n",
       "    <tr>\n",
       "      <th>15</th>\n",
       "      <td>15</td>\n",
       "      <td>1657</td>\n",
       "    </tr>\n",
       "    <tr>\n",
       "      <th>16</th>\n",
       "      <td>16</td>\n",
       "      <td>1725</td>\n",
       "    </tr>\n",
       "    <tr>\n",
       "      <th>17</th>\n",
       "      <td>17</td>\n",
       "      <td>1642</td>\n",
       "    </tr>\n",
       "    <tr>\n",
       "      <th>18</th>\n",
       "      <td>18</td>\n",
       "      <td>1814</td>\n",
       "    </tr>\n",
       "    <tr>\n",
       "      <th>19</th>\n",
       "      <td>19</td>\n",
       "      <td>1560</td>\n",
       "    </tr>\n",
       "    <tr>\n",
       "      <th>20</th>\n",
       "      <td>20</td>\n",
       "      <td>1755</td>\n",
       "    </tr>\n",
       "    <tr>\n",
       "      <th>21</th>\n",
       "      <td>21</td>\n",
       "      <td>1840</td>\n",
       "    </tr>\n",
       "    <tr>\n",
       "      <th>22</th>\n",
       "      <td>22</td>\n",
       "      <td>1854</td>\n",
       "    </tr>\n",
       "    <tr>\n",
       "      <th>23</th>\n",
       "      <td>23</td>\n",
       "      <td>1726</td>\n",
       "    </tr>\n",
       "  </tbody>\n",
       "</table>\n",
       "</div>"
      ],
      "text/plain": [
       "    Hour  Number of Pickups\n",
       "0      0               1245\n",
       "1      1                940\n",
       "2      2                677\n",
       "3      3                509\n",
       "4      4                376\n",
       "5      5                330\n",
       "6      6                368\n",
       "7      7                496\n",
       "8      8                647\n",
       "9      9                804\n",
       "10    10                986\n",
       "11    11               1069\n",
       "12    12               1132\n",
       "13    13               1179\n",
       "14    14               1377\n",
       "15    15               1657\n",
       "16    16               1725\n",
       "17    17               1642\n",
       "18    18               1814\n",
       "19    19               1560\n",
       "20    20               1755\n",
       "21    21               1840\n",
       "22    22               1854\n",
       "23    23               1726"
      ]
     },
     "execution_count": 28,
     "metadata": {},
     "output_type": "execute_result"
    }
   ],
   "source": [
    "dr"
   ]
  },
  {
   "cell_type": "code",
   "execution_count": 25,
   "metadata": {},
   "outputs": [
    {
     "data": {
      "text/plain": [
       "0     1245\n",
       "1      940\n",
       "2      677\n",
       "3      509\n",
       "4      376\n",
       "5      330\n",
       "6      368\n",
       "7      496\n",
       "8      647\n",
       "9      804\n",
       "10     986\n",
       "11    1069\n",
       "12    1132\n",
       "13    1179\n",
       "14    1377\n",
       "15    1657\n",
       "16    1725\n",
       "17    1642\n",
       "18    1814\n",
       "19    1560\n",
       "20    1755\n",
       "21    1840\n",
       "22    1854\n",
       "23    1726\n",
       "Name: Hour, dtype: int64"
      ]
     },
     "execution_count": 25,
     "metadata": {},
     "output_type": "execute_result"
    }
   ],
   "source": [
    "dailyRides"
   ]
  },
  {
   "cell_type": "code",
   "execution_count": 5,
   "metadata": {},
   "outputs": [
    {
     "data": {
      "application/vnd.plotly.v1+json": {
       "config": {
        "plotlyServerURL": "https://plot.ly"
       },
       "data": [
        {
         "alignmentgroup": "True",
         "hovertemplate": "variable=Hour<br>Hours=%{x}<br>Number of Rides=%{y}<extra></extra>",
         "legendgroup": "Hour",
         "marker": {
          "color": "#636efa",
          "pattern": {
           "shape": ""
          }
         },
         "name": "Hour",
         "offsetgroup": "Hour",
         "orientation": "v",
         "showlegend": true,
         "textposition": "auto",
         "type": "bar",
         "x": [
          0,
          1,
          2,
          3,
          4,
          5,
          6,
          7,
          8,
          9,
          10,
          11,
          12,
          13,
          14,
          15,
          16,
          17,
          18,
          19,
          20,
          21,
          22,
          23
         ],
         "xaxis": "x",
         "y": [
          1245,
          940,
          677,
          509,
          376,
          330,
          368,
          496,
          647,
          804,
          986,
          1069,
          1132,
          1179,
          1377,
          1657,
          1725,
          1642,
          1814,
          1560,
          1755,
          1840,
          1854,
          1726
         ],
         "yaxis": "y"
        }
       ],
       "layout": {
        "barmode": "relative",
        "legend": {
         "title": {
          "text": "variable"
         },
         "tracegroupgap": 0
        },
        "margin": {
         "t": 60
        },
        "template": {
         "data": {
          "bar": [
           {
            "error_x": {
             "color": "#2a3f5f"
            },
            "error_y": {
             "color": "#2a3f5f"
            },
            "marker": {
             "line": {
              "color": "#E5ECF6",
              "width": 0.5
             },
             "pattern": {
              "fillmode": "overlay",
              "size": 10,
              "solidity": 0.2
             }
            },
            "type": "bar"
           }
          ],
          "barpolar": [
           {
            "marker": {
             "line": {
              "color": "#E5ECF6",
              "width": 0.5
             },
             "pattern": {
              "fillmode": "overlay",
              "size": 10,
              "solidity": 0.2
             }
            },
            "type": "barpolar"
           }
          ],
          "carpet": [
           {
            "aaxis": {
             "endlinecolor": "#2a3f5f",
             "gridcolor": "white",
             "linecolor": "white",
             "minorgridcolor": "white",
             "startlinecolor": "#2a3f5f"
            },
            "baxis": {
             "endlinecolor": "#2a3f5f",
             "gridcolor": "white",
             "linecolor": "white",
             "minorgridcolor": "white",
             "startlinecolor": "#2a3f5f"
            },
            "type": "carpet"
           }
          ],
          "choropleth": [
           {
            "colorbar": {
             "outlinewidth": 0,
             "ticks": ""
            },
            "type": "choropleth"
           }
          ],
          "contour": [
           {
            "colorbar": {
             "outlinewidth": 0,
             "ticks": ""
            },
            "colorscale": [
             [
              0,
              "#0d0887"
             ],
             [
              0.1111111111111111,
              "#46039f"
             ],
             [
              0.2222222222222222,
              "#7201a8"
             ],
             [
              0.3333333333333333,
              "#9c179e"
             ],
             [
              0.4444444444444444,
              "#bd3786"
             ],
             [
              0.5555555555555556,
              "#d8576b"
             ],
             [
              0.6666666666666666,
              "#ed7953"
             ],
             [
              0.7777777777777778,
              "#fb9f3a"
             ],
             [
              0.8888888888888888,
              "#fdca26"
             ],
             [
              1,
              "#f0f921"
             ]
            ],
            "type": "contour"
           }
          ],
          "contourcarpet": [
           {
            "colorbar": {
             "outlinewidth": 0,
             "ticks": ""
            },
            "type": "contourcarpet"
           }
          ],
          "heatmap": [
           {
            "colorbar": {
             "outlinewidth": 0,
             "ticks": ""
            },
            "colorscale": [
             [
              0,
              "#0d0887"
             ],
             [
              0.1111111111111111,
              "#46039f"
             ],
             [
              0.2222222222222222,
              "#7201a8"
             ],
             [
              0.3333333333333333,
              "#9c179e"
             ],
             [
              0.4444444444444444,
              "#bd3786"
             ],
             [
              0.5555555555555556,
              "#d8576b"
             ],
             [
              0.6666666666666666,
              "#ed7953"
             ],
             [
              0.7777777777777778,
              "#fb9f3a"
             ],
             [
              0.8888888888888888,
              "#fdca26"
             ],
             [
              1,
              "#f0f921"
             ]
            ],
            "type": "heatmap"
           }
          ],
          "heatmapgl": [
           {
            "colorbar": {
             "outlinewidth": 0,
             "ticks": ""
            },
            "colorscale": [
             [
              0,
              "#0d0887"
             ],
             [
              0.1111111111111111,
              "#46039f"
             ],
             [
              0.2222222222222222,
              "#7201a8"
             ],
             [
              0.3333333333333333,
              "#9c179e"
             ],
             [
              0.4444444444444444,
              "#bd3786"
             ],
             [
              0.5555555555555556,
              "#d8576b"
             ],
             [
              0.6666666666666666,
              "#ed7953"
             ],
             [
              0.7777777777777778,
              "#fb9f3a"
             ],
             [
              0.8888888888888888,
              "#fdca26"
             ],
             [
              1,
              "#f0f921"
             ]
            ],
            "type": "heatmapgl"
           }
          ],
          "histogram": [
           {
            "marker": {
             "pattern": {
              "fillmode": "overlay",
              "size": 10,
              "solidity": 0.2
             }
            },
            "type": "histogram"
           }
          ],
          "histogram2d": [
           {
            "colorbar": {
             "outlinewidth": 0,
             "ticks": ""
            },
            "colorscale": [
             [
              0,
              "#0d0887"
             ],
             [
              0.1111111111111111,
              "#46039f"
             ],
             [
              0.2222222222222222,
              "#7201a8"
             ],
             [
              0.3333333333333333,
              "#9c179e"
             ],
             [
              0.4444444444444444,
              "#bd3786"
             ],
             [
              0.5555555555555556,
              "#d8576b"
             ],
             [
              0.6666666666666666,
              "#ed7953"
             ],
             [
              0.7777777777777778,
              "#fb9f3a"
             ],
             [
              0.8888888888888888,
              "#fdca26"
             ],
             [
              1,
              "#f0f921"
             ]
            ],
            "type": "histogram2d"
           }
          ],
          "histogram2dcontour": [
           {
            "colorbar": {
             "outlinewidth": 0,
             "ticks": ""
            },
            "colorscale": [
             [
              0,
              "#0d0887"
             ],
             [
              0.1111111111111111,
              "#46039f"
             ],
             [
              0.2222222222222222,
              "#7201a8"
             ],
             [
              0.3333333333333333,
              "#9c179e"
             ],
             [
              0.4444444444444444,
              "#bd3786"
             ],
             [
              0.5555555555555556,
              "#d8576b"
             ],
             [
              0.6666666666666666,
              "#ed7953"
             ],
             [
              0.7777777777777778,
              "#fb9f3a"
             ],
             [
              0.8888888888888888,
              "#fdca26"
             ],
             [
              1,
              "#f0f921"
             ]
            ],
            "type": "histogram2dcontour"
           }
          ],
          "mesh3d": [
           {
            "colorbar": {
             "outlinewidth": 0,
             "ticks": ""
            },
            "type": "mesh3d"
           }
          ],
          "parcoords": [
           {
            "line": {
             "colorbar": {
              "outlinewidth": 0,
              "ticks": ""
             }
            },
            "type": "parcoords"
           }
          ],
          "pie": [
           {
            "automargin": true,
            "type": "pie"
           }
          ],
          "scatter": [
           {
            "marker": {
             "colorbar": {
              "outlinewidth": 0,
              "ticks": ""
             }
            },
            "type": "scatter"
           }
          ],
          "scatter3d": [
           {
            "line": {
             "colorbar": {
              "outlinewidth": 0,
              "ticks": ""
             }
            },
            "marker": {
             "colorbar": {
              "outlinewidth": 0,
              "ticks": ""
             }
            },
            "type": "scatter3d"
           }
          ],
          "scattercarpet": [
           {
            "marker": {
             "colorbar": {
              "outlinewidth": 0,
              "ticks": ""
             }
            },
            "type": "scattercarpet"
           }
          ],
          "scattergeo": [
           {
            "marker": {
             "colorbar": {
              "outlinewidth": 0,
              "ticks": ""
             }
            },
            "type": "scattergeo"
           }
          ],
          "scattergl": [
           {
            "marker": {
             "colorbar": {
              "outlinewidth": 0,
              "ticks": ""
             }
            },
            "type": "scattergl"
           }
          ],
          "scattermapbox": [
           {
            "marker": {
             "colorbar": {
              "outlinewidth": 0,
              "ticks": ""
             }
            },
            "type": "scattermapbox"
           }
          ],
          "scatterpolar": [
           {
            "marker": {
             "colorbar": {
              "outlinewidth": 0,
              "ticks": ""
             }
            },
            "type": "scatterpolar"
           }
          ],
          "scatterpolargl": [
           {
            "marker": {
             "colorbar": {
              "outlinewidth": 0,
              "ticks": ""
             }
            },
            "type": "scatterpolargl"
           }
          ],
          "scatterternary": [
           {
            "marker": {
             "colorbar": {
              "outlinewidth": 0,
              "ticks": ""
             }
            },
            "type": "scatterternary"
           }
          ],
          "surface": [
           {
            "colorbar": {
             "outlinewidth": 0,
             "ticks": ""
            },
            "colorscale": [
             [
              0,
              "#0d0887"
             ],
             [
              0.1111111111111111,
              "#46039f"
             ],
             [
              0.2222222222222222,
              "#7201a8"
             ],
             [
              0.3333333333333333,
              "#9c179e"
             ],
             [
              0.4444444444444444,
              "#bd3786"
             ],
             [
              0.5555555555555556,
              "#d8576b"
             ],
             [
              0.6666666666666666,
              "#ed7953"
             ],
             [
              0.7777777777777778,
              "#fb9f3a"
             ],
             [
              0.8888888888888888,
              "#fdca26"
             ],
             [
              1,
              "#f0f921"
             ]
            ],
            "type": "surface"
           }
          ],
          "table": [
           {
            "cells": {
             "fill": {
              "color": "#EBF0F8"
             },
             "line": {
              "color": "white"
             }
            },
            "header": {
             "fill": {
              "color": "#C8D4E3"
             },
             "line": {
              "color": "white"
             }
            },
            "type": "table"
           }
          ]
         },
         "layout": {
          "annotationdefaults": {
           "arrowcolor": "#2a3f5f",
           "arrowhead": 0,
           "arrowwidth": 1
          },
          "autotypenumbers": "strict",
          "coloraxis": {
           "colorbar": {
            "outlinewidth": 0,
            "ticks": ""
           }
          },
          "colorscale": {
           "diverging": [
            [
             0,
             "#8e0152"
            ],
            [
             0.1,
             "#c51b7d"
            ],
            [
             0.2,
             "#de77ae"
            ],
            [
             0.3,
             "#f1b6da"
            ],
            [
             0.4,
             "#fde0ef"
            ],
            [
             0.5,
             "#f7f7f7"
            ],
            [
             0.6,
             "#e6f5d0"
            ],
            [
             0.7,
             "#b8e186"
            ],
            [
             0.8,
             "#7fbc41"
            ],
            [
             0.9,
             "#4d9221"
            ],
            [
             1,
             "#276419"
            ]
           ],
           "sequential": [
            [
             0,
             "#0d0887"
            ],
            [
             0.1111111111111111,
             "#46039f"
            ],
            [
             0.2222222222222222,
             "#7201a8"
            ],
            [
             0.3333333333333333,
             "#9c179e"
            ],
            [
             0.4444444444444444,
             "#bd3786"
            ],
            [
             0.5555555555555556,
             "#d8576b"
            ],
            [
             0.6666666666666666,
             "#ed7953"
            ],
            [
             0.7777777777777778,
             "#fb9f3a"
            ],
            [
             0.8888888888888888,
             "#fdca26"
            ],
            [
             1,
             "#f0f921"
            ]
           ],
           "sequentialminus": [
            [
             0,
             "#0d0887"
            ],
            [
             0.1111111111111111,
             "#46039f"
            ],
            [
             0.2222222222222222,
             "#7201a8"
            ],
            [
             0.3333333333333333,
             "#9c179e"
            ],
            [
             0.4444444444444444,
             "#bd3786"
            ],
            [
             0.5555555555555556,
             "#d8576b"
            ],
            [
             0.6666666666666666,
             "#ed7953"
            ],
            [
             0.7777777777777778,
             "#fb9f3a"
            ],
            [
             0.8888888888888888,
             "#fdca26"
            ],
            [
             1,
             "#f0f921"
            ]
           ]
          },
          "colorway": [
           "#636efa",
           "#EF553B",
           "#00cc96",
           "#ab63fa",
           "#FFA15A",
           "#19d3f3",
           "#FF6692",
           "#B6E880",
           "#FF97FF",
           "#FECB52"
          ],
          "font": {
           "color": "#2a3f5f"
          },
          "geo": {
           "bgcolor": "white",
           "lakecolor": "white",
           "landcolor": "#E5ECF6",
           "showlakes": true,
           "showland": true,
           "subunitcolor": "white"
          },
          "hoverlabel": {
           "align": "left"
          },
          "hovermode": "closest",
          "mapbox": {
           "style": "light"
          },
          "paper_bgcolor": "white",
          "plot_bgcolor": "#E5ECF6",
          "polar": {
           "angularaxis": {
            "gridcolor": "white",
            "linecolor": "white",
            "ticks": ""
           },
           "bgcolor": "#E5ECF6",
           "radialaxis": {
            "gridcolor": "white",
            "linecolor": "white",
            "ticks": ""
           }
          },
          "scene": {
           "xaxis": {
            "backgroundcolor": "#E5ECF6",
            "gridcolor": "white",
            "gridwidth": 2,
            "linecolor": "white",
            "showbackground": true,
            "ticks": "",
            "zerolinecolor": "white"
           },
           "yaxis": {
            "backgroundcolor": "#E5ECF6",
            "gridcolor": "white",
            "gridwidth": 2,
            "linecolor": "white",
            "showbackground": true,
            "ticks": "",
            "zerolinecolor": "white"
           },
           "zaxis": {
            "backgroundcolor": "#E5ECF6",
            "gridcolor": "white",
            "gridwidth": 2,
            "linecolor": "white",
            "showbackground": true,
            "ticks": "",
            "zerolinecolor": "white"
           }
          },
          "shapedefaults": {
           "line": {
            "color": "#2a3f5f"
           }
          },
          "ternary": {
           "aaxis": {
            "gridcolor": "white",
            "linecolor": "white",
            "ticks": ""
           },
           "baxis": {
            "gridcolor": "white",
            "linecolor": "white",
            "ticks": ""
           },
           "bgcolor": "#E5ECF6",
           "caxis": {
            "gridcolor": "white",
            "linecolor": "white",
            "ticks": ""
           }
          },
          "title": {
           "x": 0.05
          },
          "xaxis": {
           "automargin": true,
           "gridcolor": "white",
           "linecolor": "white",
           "ticks": "",
           "title": {
            "standoff": 15
           },
           "zerolinecolor": "white",
           "zerolinewidth": 2
          },
          "yaxis": {
           "automargin": true,
           "gridcolor": "white",
           "linecolor": "white",
           "ticks": "",
           "title": {
            "standoff": 15
           },
           "zerolinecolor": "white",
           "zerolinewidth": 2
          }
         }
        },
        "xaxis": {
         "anchor": "y",
         "domain": [
          0,
          1
         ],
         "title": {
          "text": "Hours"
         }
        },
        "yaxis": {
         "anchor": "x",
         "domain": [
          0,
          1
         ],
         "title": {
          "text": "Number of Rides"
         }
        }
       }
      }
     },
     "metadata": {},
     "output_type": "display_data"
    }
   ],
   "source": [
    "byHourFigure"
   ]
  },
  {
   "cell_type": "code",
   "execution_count": 5,
   "metadata": {},
   "outputs": [],
   "source": [
    "# Bar chart for hourly rides\n",
    "\n",
    "dailyRides = pickups.query(\n",
    "    'Day == 26 and Month == \"July\"' \n",
    ")\n",
    "\n",
    "dailyRides = dailyRides.groupby(['Hour']).sum()\n",
    "\n",
    "labels = {\n",
    "    \"x\": \"Hours\",\n",
    "    \"Day\": \"Number of Rides\"\n",
    "}\n",
    "\n",
    "byHourFigure = px.bar(dailyRides, x=[x for x in range(24)], y=\"Day\", labels=labels)\n",
    "\n",
    "# byHourFigure.show()"
   ]
  },
  {
   "cell_type": "code",
   "execution_count": 7,
   "metadata": {},
   "outputs": [],
   "source": [
    "month_map = {\n",
    "    4: 'April',\n",
    "    5: 'May',\n",
    "    6: 'June', \n",
    "    7: 'July',\n",
    "    8: 'August',\n",
    "    9: 'September'\n",
    "}"
   ]
  },
  {
   "cell_type": "code",
   "execution_count": 31,
   "metadata": {},
   "outputs": [
    {
     "data": {
      "text/plain": [
       "Month      Day\n",
       "April      1      14546\n",
       "           2      17474\n",
       "           3      20701\n",
       "           4      26714\n",
       "           5      19521\n",
       "                  ...  \n",
       "September  26     37504\n",
       "           27     39468\n",
       "           28     29656\n",
       "           29     29201\n",
       "           30     33431\n",
       "Name: Hour, Length: 183, dtype: int64"
      ]
     },
     "execution_count": 31,
     "metadata": {},
     "output_type": "execute_result"
    }
   ],
   "source": [
    "daily_pickups"
   ]
  },
  {
   "cell_type": "code",
   "execution_count": 9,
   "metadata": {},
   "outputs": [
    {
     "data": {
      "text/plain": [
       "Text(0.5, 1.0, 'Daily Pickups')"
      ]
     },
     "execution_count": 9,
     "metadata": {},
     "output_type": "execute_result"
    },
    {
     "data": {
      "image/png": "[encoded data removed]",
      "text/plain": [
       "<Figure size 432x288 with 1 Axes>"
      ]
     },
     "metadata": {},
     "output_type": "display_data"
    }
   ],
   "source": [
    "daily_pickups = pickups.groupby(['Month', 'Day'])['Hour'].count()[month_map.values()]  # type: ignore\n",
    "daily_pickups.plot(kind='line', rot=0)\n",
    "month_starts = np.where(daily_pickups.reset_index(level=0, drop=True).index.get_loc(1))[0]\n",
    "plt.xticks(ticks=month_starts, labels=month_map.values())  # type: ignore\n",
    "plt.ylabel('# Pickups')\n",
    "plt.title('Daily Pickups')"
   ]
  },
  {
   "cell_type": "code",
   "execution_count": 29,
   "metadata": {},
   "outputs": [
    {
     "name": "stdout",
     "output_type": "stream",
     "text": [
      "Number of Pickups: 4500872\n"
     ]
    },
    {
     "data": {
      "image/png": "[encoded data removed]",
      "text/html": [
       "<img style=\"margin: auto; border:1px solid\" src='data:image/png;base64,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'/>"
      ],
      "text/plain": [
       "<xarray.Image (Lat: 600, Lon: 600)>\n",
       "array([[4278190080, 4278190080, 4278190080, ..., 4278190080, 4278190080,\n",
       "        4278190080],\n",
       "       [4278190080, 4278190080, 4278190080, ..., 4278190080, 4278190080,\n",
       "        4278190080],\n",
       "       [4278190080, 4278190080, 4278190080, ..., 4278190080, 4278190080,\n",
       "        4278190080],\n",
       "       ...,\n",
       "       [4278190080, 4278190080, 4278190080, ..., 4278190080, 4278190080,\n",
       "        4278190080],\n",
       "       [4278190080, 4278190080, 4278190080, ..., 4278190080, 4278190080,\n",
       "        4278190080],\n",
       "       [4278190080, 4278190080, 4278190080, ..., 4278190080, 4278190080,\n",
       "        4278190080]], dtype=uint32)\n",
       "Coordinates:\n",
       "  * Lon      (Lon) float64 -74.25 -74.25 -74.25 -74.25 ... -73.75 -73.75 -73.75\n",
       "  * Lat      (Lat) float64 40.53 40.53 40.53 40.53 40.53 ... 41.0 41.0 41.0 41.0"
      ]
     },
     "execution_count": 29,
     "metadata": {},
     "output_type": "execute_result"
    }
   ],
   "source": [
    "pickups_focused = pickups[\n",
    "    pickups['Lon'].between(-74.25, -73.75) & \n",
    "    pickups['Lat'].between(40.5, 41)\n",
    "]\n",
    "print('Number of Pickups: {}'.format(len(pickups_focused)))\n",
    "\n",
    "pickup_points = ds.Canvas().points(pickups_focused, 'Lon', 'Lat', )\n",
    "ds.tf.set_background(ds.tf.shade(pickup_points, cmap=cc.fire), \"black\")"
   ]
  },
  {
   "cell_type": "code",
   "execution_count": 30,
   "metadata": {},
   "outputs": [
    {
     "data": {
      "text/html": [
       "<div>\n",
       "<style scoped>\n",
       "    .dataframe tbody tr th:only-of-type {\n",
       "        vertical-align: middle;\n",
       "    }\n",
       "\n",
       "    .dataframe tbody tr th {\n",
       "        vertical-align: top;\n",
       "    }\n",
       "\n",
       "    .dataframe thead th {\n",
       "        text-align: right;\n",
       "    }\n",
       "</style>\n",
       "<table border=\"1\" class=\"dataframe\">\n",
       "  <thead>\n",
       "    <tr style=\"text-align: right;\">\n",
       "      <th></th>\n",
       "      <th>Base</th>\n",
       "      <th>Lat</th>\n",
       "      <th>Lon</th>\n",
       "      <th>Month</th>\n",
       "      <th>Day</th>\n",
       "      <th>Weekday</th>\n",
       "      <th>Hour</th>\n",
       "    </tr>\n",
       "  </thead>\n",
       "  <tbody>\n",
       "    <tr>\n",
       "      <th>0</th>\n",
       "      <td>B02512</td>\n",
       "      <td>40.7690</td>\n",
       "      <td>-73.9549</td>\n",
       "      <td>April</td>\n",
       "      <td>1</td>\n",
       "      <td>Tuesday</td>\n",
       "      <td>0</td>\n",
       "    </tr>\n",
       "    <tr>\n",
       "      <th>1</th>\n",
       "      <td>B02512</td>\n",
       "      <td>40.7267</td>\n",
       "      <td>-74.0345</td>\n",
       "      <td>April</td>\n",
       "      <td>1</td>\n",
       "      <td>Tuesday</td>\n",
       "      <td>0</td>\n",
       "    </tr>\n",
       "    <tr>\n",
       "      <th>2</th>\n",
       "      <td>B02512</td>\n",
       "      <td>40.7316</td>\n",
       "      <td>-73.9873</td>\n",
       "      <td>April</td>\n",
       "      <td>1</td>\n",
       "      <td>Tuesday</td>\n",
       "      <td>0</td>\n",
       "    </tr>\n",
       "    <tr>\n",
       "      <th>3</th>\n",
       "      <td>B02512</td>\n",
       "      <td>40.7588</td>\n",
       "      <td>-73.9776</td>\n",
       "      <td>April</td>\n",
       "      <td>1</td>\n",
       "      <td>Tuesday</td>\n",
       "      <td>0</td>\n",
       "    </tr>\n",
       "    <tr>\n",
       "      <th>4</th>\n",
       "      <td>B02512</td>\n",
       "      <td>40.7594</td>\n",
       "      <td>-73.9722</td>\n",
       "      <td>April</td>\n",
       "      <td>1</td>\n",
       "      <td>Tuesday</td>\n",
       "      <td>0</td>\n",
       "    </tr>\n",
       "    <tr>\n",
       "      <th>...</th>\n",
       "      <td>...</td>\n",
       "      <td>...</td>\n",
       "      <td>...</td>\n",
       "      <td>...</td>\n",
       "      <td>...</td>\n",
       "      <td>...</td>\n",
       "      <td>...</td>\n",
       "    </tr>\n",
       "    <tr>\n",
       "      <th>4534322</th>\n",
       "      <td>B02764</td>\n",
       "      <td>40.7668</td>\n",
       "      <td>-73.9845</td>\n",
       "      <td>September</td>\n",
       "      <td>30</td>\n",
       "      <td>Tuesday</td>\n",
       "      <td>22</td>\n",
       "    </tr>\n",
       "    <tr>\n",
       "      <th>4534323</th>\n",
       "      <td>B02764</td>\n",
       "      <td>40.6911</td>\n",
       "      <td>-74.1773</td>\n",
       "      <td>September</td>\n",
       "      <td>30</td>\n",
       "      <td>Tuesday</td>\n",
       "      <td>22</td>\n",
       "    </tr>\n",
       "    <tr>\n",
       "      <th>4534324</th>\n",
       "      <td>B02764</td>\n",
       "      <td>40.8519</td>\n",
       "      <td>-73.9319</td>\n",
       "      <td>September</td>\n",
       "      <td>30</td>\n",
       "      <td>Tuesday</td>\n",
       "      <td>22</td>\n",
       "    </tr>\n",
       "    <tr>\n",
       "      <th>4534325</th>\n",
       "      <td>B02764</td>\n",
       "      <td>40.7081</td>\n",
       "      <td>-74.0066</td>\n",
       "      <td>September</td>\n",
       "      <td>30</td>\n",
       "      <td>Tuesday</td>\n",
       "      <td>22</td>\n",
       "    </tr>\n",
       "    <tr>\n",
       "      <th>4534326</th>\n",
       "      <td>B02764</td>\n",
       "      <td>40.7140</td>\n",
       "      <td>-73.9496</td>\n",
       "      <td>September</td>\n",
       "      <td>30</td>\n",
       "      <td>Tuesday</td>\n",
       "      <td>22</td>\n",
       "    </tr>\n",
       "  </tbody>\n",
       "</table>\n",
       "<p>4500872 rows × 7 columns</p>\n",
       "</div>"
      ],
      "text/plain": [
       "           Base      Lat      Lon      Month  Day  Weekday  Hour\n",
       "0        B02512  40.7690 -73.9549      April    1  Tuesday     0\n",
       "1        B02512  40.7267 -74.0345      April    1  Tuesday     0\n",
       "2        B02512  40.7316 -73.9873      April    1  Tuesday     0\n",
       "3        B02512  40.7588 -73.9776      April    1  Tuesday     0\n",
       "4        B02512  40.7594 -73.9722      April    1  Tuesday     0\n",
       "...         ...      ...      ...        ...  ...      ...   ...\n",
       "4534322  B02764  40.7668 -73.9845  September   30  Tuesday    22\n",
       "4534323  B02764  40.6911 -74.1773  September   30  Tuesday    22\n",
       "4534324  B02764  40.8519 -73.9319  September   30  Tuesday    22\n",
       "4534325  B02764  40.7081 -74.0066  September   30  Tuesday    22\n",
       "4534326  B02764  40.7140 -73.9496  September   30  Tuesday    22\n",
       "\n",
       "[4500872 rows x 7 columns]"
      ]
     },
     "execution_count": 30,
     "metadata": {},
     "output_type": "execute_result"
    }
   ],
   "source": [
    "pickups_focused"
   ]
  }
 ],
 "metadata": {
  "kernelspec": {
   "display_name": "Python 3.9.5 64-bit",
   "language": "python",
   "name": "python3"
  },
  "language_info": {
   "codemirror_mode": {
    "name": "ipython",
    "version": 3
   },
   "file_extension": ".py",
   "mimetype": "text/x-python",
   "name": "python",
   "nbconvert_exporter": "python",
   "pygments_lexer": "ipython3",
   "version": "3.9.5"
  },
  "orig_nbformat": 4,
  "vscode": {
   "interpreter": {
    "hash": "81794d4967e6c3204c66dcd87b604927b115b27c00565d3d43f05ba2f3a2cb0d"
   }
  }
 },
 "nbformat": 4,
 "nbformat_minor": 2
}
